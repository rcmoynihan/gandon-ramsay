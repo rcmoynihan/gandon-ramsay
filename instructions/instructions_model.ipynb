{
 "cells": [
  {
   "cell_type": "markdown",
   "metadata": {},
   "source": [
    "MIS 285N Cognitive Computing<br>\n",
    "Final Project<br>\n",
    "Jerry Che - Jose Guerrero - Riley Moynihan - Noah Placke - Sarah Teng - Palmer Wenzel"
   ]
  },
  {
   "cell_type": "markdown",
   "metadata": {},
   "source": [
    "# Instructions Generation Model"
   ]
  },
  {
   "cell_type": "markdown",
   "metadata": {},
   "source": [
    "Following techniques from:\n",
    "- https://towardsdatascience.com/image-captioning-with-keras-teaching-computers-to-describe-pictures-c88a46a311b8\n",
    "- https://github.com/hlamba28/Automatic-Image-Captioning/blob/master/Automatic%20Image%20Captioning.ipynb"
   ]
  },
  {
   "cell_type": "markdown",
   "metadata": {},
   "source": [
    "#### Read data from CSV."
   ]
  },
  {
   "cell_type": "code",
   "execution_count": 1,
   "metadata": {},
   "outputs": [
    {
     "data": {
      "text/html": [
       "<div>\n",
       "<style scoped>\n",
       "    .dataframe tbody tr th:only-of-type {\n",
       "        vertical-align: middle;\n",
       "    }\n",
       "\n",
       "    .dataframe tbody tr th {\n",
       "        vertical-align: top;\n",
       "    }\n",
       "\n",
       "    .dataframe thead th {\n",
       "        text-align: right;\n",
       "    }\n",
       "</style>\n",
       "<table border=\"1\" class=\"dataframe\">\n",
       "  <thead>\n",
       "    <tr style=\"text-align: right;\">\n",
       "      <th></th>\n",
       "      <th>name</th>\n",
       "      <th>steps</th>\n",
       "      <th>crabmeat</th>\n",
       "      <th>creamcheese</th>\n",
       "      <th>greenonions</th>\n",
       "      <th>garlicsalt</th>\n",
       "      <th>refrigeratedcrescentdinnerrolls</th>\n",
       "      <th>eggyolk</th>\n",
       "      <th>water</th>\n",
       "      <th>sesameseeds</th>\n",
       "      <th>...</th>\n",
       "      <th>tex-mexseasoning</th>\n",
       "      <th>lightnon-dairywhippedtopping</th>\n",
       "      <th>stelladoroanginetticookies</th>\n",
       "      <th>viennabread</th>\n",
       "      <th>beefroundrumproast</th>\n",
       "      <th>romaineleaf</th>\n",
       "      <th>nuocnam</th>\n",
       "      <th>thaiholybasil</th>\n",
       "      <th>driedblacktrumpetmushrooms</th>\n",
       "      <th>driedwoodearmushrooms</th>\n",
       "    </tr>\n",
       "  </thead>\n",
       "  <tbody>\n",
       "    <tr>\n",
       "      <th>10023</th>\n",
       "      <td>grilled prawns in butter</td>\n",
       "      <td>clean prawns and butterfly, put in a rectangul...</td>\n",
       "      <td>0.0</td>\n",
       "      <td>0.0</td>\n",
       "      <td>0.0</td>\n",
       "      <td>0.0</td>\n",
       "      <td>0.0</td>\n",
       "      <td>0.0</td>\n",
       "      <td>0.0</td>\n",
       "      <td>0.0</td>\n",
       "      <td>...</td>\n",
       "      <td>0.0</td>\n",
       "      <td>0.0</td>\n",
       "      <td>0.0</td>\n",
       "      <td>0.0</td>\n",
       "      <td>0.0</td>\n",
       "      <td>0.0</td>\n",
       "      <td>0.0</td>\n",
       "      <td>0.0</td>\n",
       "      <td>0.0</td>\n",
       "      <td>0.0</td>\n",
       "    </tr>\n",
       "    <tr>\n",
       "      <th>15838</th>\n",
       "      <td>moroccan chicken with couscous</td>\n",
       "      <td>slice chicken into thin strips about an inch l...</td>\n",
       "      <td>0.0</td>\n",
       "      <td>0.0</td>\n",
       "      <td>0.0</td>\n",
       "      <td>0.0</td>\n",
       "      <td>0.0</td>\n",
       "      <td>0.0</td>\n",
       "      <td>0.0</td>\n",
       "      <td>0.0</td>\n",
       "      <td>...</td>\n",
       "      <td>0.0</td>\n",
       "      <td>0.0</td>\n",
       "      <td>0.0</td>\n",
       "      <td>0.0</td>\n",
       "      <td>0.0</td>\n",
       "      <td>0.0</td>\n",
       "      <td>0.0</td>\n",
       "      <td>0.0</td>\n",
       "      <td>0.0</td>\n",
       "      <td>0.0</td>\n",
       "    </tr>\n",
       "    <tr>\n",
       "      <th>11107</th>\n",
       "      <td>sun dried tomato pasta sauce</td>\n",
       "      <td>sautee onions and garlic in olive oil until so...</td>\n",
       "      <td>0.0</td>\n",
       "      <td>0.0</td>\n",
       "      <td>0.0</td>\n",
       "      <td>0.0</td>\n",
       "      <td>0.0</td>\n",
       "      <td>0.0</td>\n",
       "      <td>0.0</td>\n",
       "      <td>0.0</td>\n",
       "      <td>...</td>\n",
       "      <td>0.0</td>\n",
       "      <td>0.0</td>\n",
       "      <td>0.0</td>\n",
       "      <td>0.0</td>\n",
       "      <td>0.0</td>\n",
       "      <td>0.0</td>\n",
       "      <td>0.0</td>\n",
       "      <td>0.0</td>\n",
       "      <td>0.0</td>\n",
       "      <td>0.0</td>\n",
       "    </tr>\n",
       "  </tbody>\n",
       "</table>\n",
       "<p>3 rows × 7686 columns</p>\n",
       "</div>"
      ],
      "text/plain": [
       "                                 name  \\\n",
       "10023        grilled prawns in butter   \n",
       "15838  moroccan chicken with couscous   \n",
       "11107    sun dried tomato pasta sauce   \n",
       "\n",
       "                                                   steps  crabmeat  \\\n",
       "10023  clean prawns and butterfly, put in a rectangul...       0.0   \n",
       "15838  slice chicken into thin strips about an inch l...       0.0   \n",
       "11107  sautee onions and garlic in olive oil until so...       0.0   \n",
       "\n",
       "       creamcheese  greenonions  garlicsalt  refrigeratedcrescentdinnerrolls  \\\n",
       "10023          0.0          0.0         0.0                              0.0   \n",
       "15838          0.0          0.0         0.0                              0.0   \n",
       "11107          0.0          0.0         0.0                              0.0   \n",
       "\n",
       "       eggyolk  water  sesameseeds  ...  tex-mexseasoning  \\\n",
       "10023      0.0    0.0          0.0  ...               0.0   \n",
       "15838      0.0    0.0          0.0  ...               0.0   \n",
       "11107      0.0    0.0          0.0  ...               0.0   \n",
       "\n",
       "       lightnon-dairywhippedtopping  stelladoroanginetticookies  viennabread  \\\n",
       "10023                           0.0                         0.0          0.0   \n",
       "15838                           0.0                         0.0          0.0   \n",
       "11107                           0.0                         0.0          0.0   \n",
       "\n",
       "       beefroundrumproast  romaineleaf  nuocnam  thaiholybasil  \\\n",
       "10023                 0.0          0.0      0.0            0.0   \n",
       "15838                 0.0          0.0      0.0            0.0   \n",
       "11107                 0.0          0.0      0.0            0.0   \n",
       "\n",
       "       driedblacktrumpetmushrooms  driedwoodearmushrooms  \n",
       "10023                         0.0                    0.0  \n",
       "15838                         0.0                    0.0  \n",
       "11107                         0.0                    0.0  \n",
       "\n",
       "[3 rows x 7686 columns]"
      ]
     },
     "execution_count": 1,
     "metadata": {},
     "output_type": "execute_result"
    }
   ],
   "source": [
    "import pandas as pd\n",
    "# pd.options.display.max_columns = 500\n",
    "\n",
    "\n",
    "df = pd.read_csv('../data/kaggle/processed/recipes_processed.csv').sample(frac=0.1, random_state=42)\n",
    "\n",
    "df.head(3)"
   ]
  },
  {
   "cell_type": "markdown",
   "metadata": {},
   "source": [
    "#### Drop any all-zero cols."
   ]
  },
  {
   "cell_type": "code",
   "execution_count": 2,
   "metadata": {},
   "outputs": [
    {
     "data": {
      "text/html": [
       "<div>\n",
       "<style scoped>\n",
       "    .dataframe tbody tr th:only-of-type {\n",
       "        vertical-align: middle;\n",
       "    }\n",
       "\n",
       "    .dataframe tbody tr th {\n",
       "        vertical-align: top;\n",
       "    }\n",
       "\n",
       "    .dataframe thead th {\n",
       "        text-align: right;\n",
       "    }\n",
       "</style>\n",
       "<table border=\"1\" class=\"dataframe\">\n",
       "  <thead>\n",
       "    <tr style=\"text-align: right;\">\n",
       "      <th></th>\n",
       "      <th>name</th>\n",
       "      <th>steps</th>\n",
       "      <th>crabmeat</th>\n",
       "      <th>creamcheese</th>\n",
       "      <th>greenonions</th>\n",
       "      <th>garlicsalt</th>\n",
       "      <th>refrigeratedcrescentdinnerrolls</th>\n",
       "      <th>eggyolk</th>\n",
       "      <th>water</th>\n",
       "      <th>sesameseeds</th>\n",
       "      <th>...</th>\n",
       "      <th>smallwhitepotatoes</th>\n",
       "      <th>vegetarianpepperoni</th>\n",
       "      <th>powderedclove</th>\n",
       "      <th>cookedsushirice</th>\n",
       "      <th>almondbreezenon-dairybeverage</th>\n",
       "      <th>chocolateraspberrymoussemix</th>\n",
       "      <th>candiedcitronpeel</th>\n",
       "      <th>mincedclamswithjuice</th>\n",
       "      <th>dooleyliqueur</th>\n",
       "      <th>self-risingcornmealmix</th>\n",
       "    </tr>\n",
       "  </thead>\n",
       "  <tbody>\n",
       "    <tr>\n",
       "      <th>10023</th>\n",
       "      <td>grilled prawns in butter</td>\n",
       "      <td>clean prawns and butterfly, put in a rectangul...</td>\n",
       "      <td>0.0</td>\n",
       "      <td>0.0</td>\n",
       "      <td>0.0</td>\n",
       "      <td>0.0</td>\n",
       "      <td>0.0</td>\n",
       "      <td>0.0</td>\n",
       "      <td>0.0</td>\n",
       "      <td>0.0</td>\n",
       "      <td>...</td>\n",
       "      <td>0.0</td>\n",
       "      <td>0.0</td>\n",
       "      <td>0.0</td>\n",
       "      <td>0.0</td>\n",
       "      <td>0.0</td>\n",
       "      <td>0.0</td>\n",
       "      <td>0.0</td>\n",
       "      <td>0.0</td>\n",
       "      <td>0.0</td>\n",
       "      <td>0.0</td>\n",
       "    </tr>\n",
       "    <tr>\n",
       "      <th>15838</th>\n",
       "      <td>moroccan chicken with couscous</td>\n",
       "      <td>slice chicken into thin strips about an inch l...</td>\n",
       "      <td>0.0</td>\n",
       "      <td>0.0</td>\n",
       "      <td>0.0</td>\n",
       "      <td>0.0</td>\n",
       "      <td>0.0</td>\n",
       "      <td>0.0</td>\n",
       "      <td>0.0</td>\n",
       "      <td>0.0</td>\n",
       "      <td>...</td>\n",
       "      <td>0.0</td>\n",
       "      <td>0.0</td>\n",
       "      <td>0.0</td>\n",
       "      <td>0.0</td>\n",
       "      <td>0.0</td>\n",
       "      <td>0.0</td>\n",
       "      <td>0.0</td>\n",
       "      <td>0.0</td>\n",
       "      <td>0.0</td>\n",
       "      <td>0.0</td>\n",
       "    </tr>\n",
       "    <tr>\n",
       "      <th>11107</th>\n",
       "      <td>sun dried tomato pasta sauce</td>\n",
       "      <td>sautee onions and garlic in olive oil until so...</td>\n",
       "      <td>0.0</td>\n",
       "      <td>0.0</td>\n",
       "      <td>0.0</td>\n",
       "      <td>0.0</td>\n",
       "      <td>0.0</td>\n",
       "      <td>0.0</td>\n",
       "      <td>0.0</td>\n",
       "      <td>0.0</td>\n",
       "      <td>...</td>\n",
       "      <td>0.0</td>\n",
       "      <td>0.0</td>\n",
       "      <td>0.0</td>\n",
       "      <td>0.0</td>\n",
       "      <td>0.0</td>\n",
       "      <td>0.0</td>\n",
       "      <td>0.0</td>\n",
       "      <td>0.0</td>\n",
       "      <td>0.0</td>\n",
       "      <td>0.0</td>\n",
       "    </tr>\n",
       "  </tbody>\n",
       "</table>\n",
       "<p>3 rows × 3051 columns</p>\n",
       "</div>"
      ],
      "text/plain": [
       "                                 name  \\\n",
       "10023        grilled prawns in butter   \n",
       "15838  moroccan chicken with couscous   \n",
       "11107    sun dried tomato pasta sauce   \n",
       "\n",
       "                                                   steps  crabmeat  \\\n",
       "10023  clean prawns and butterfly, put in a rectangul...       0.0   \n",
       "15838  slice chicken into thin strips about an inch l...       0.0   \n",
       "11107  sautee onions and garlic in olive oil until so...       0.0   \n",
       "\n",
       "       creamcheese  greenonions  garlicsalt  refrigeratedcrescentdinnerrolls  \\\n",
       "10023          0.0          0.0         0.0                              0.0   \n",
       "15838          0.0          0.0         0.0                              0.0   \n",
       "11107          0.0          0.0         0.0                              0.0   \n",
       "\n",
       "       eggyolk  water  sesameseeds  ...  smallwhitepotatoes  \\\n",
       "10023      0.0    0.0          0.0  ...                 0.0   \n",
       "15838      0.0    0.0          0.0  ...                 0.0   \n",
       "11107      0.0    0.0          0.0  ...                 0.0   \n",
       "\n",
       "       vegetarianpepperoni  powderedclove  cookedsushirice  \\\n",
       "10023                  0.0            0.0              0.0   \n",
       "15838                  0.0            0.0              0.0   \n",
       "11107                  0.0            0.0              0.0   \n",
       "\n",
       "       almondbreezenon-dairybeverage  chocolateraspberrymoussemix  \\\n",
       "10023                            0.0                          0.0   \n",
       "15838                            0.0                          0.0   \n",
       "11107                            0.0                          0.0   \n",
       "\n",
       "       candiedcitronpeel  mincedclamswithjuice  dooleyliqueur  \\\n",
       "10023                0.0                   0.0            0.0   \n",
       "15838                0.0                   0.0            0.0   \n",
       "11107                0.0                   0.0            0.0   \n",
       "\n",
       "       self-risingcornmealmix  \n",
       "10023                     0.0  \n",
       "15838                     0.0  \n",
       "11107                     0.0  \n",
       "\n",
       "[3 rows x 3051 columns]"
      ]
     },
     "execution_count": 2,
     "metadata": {},
     "output_type": "execute_result"
    }
   ],
   "source": [
    "nunique = df.apply(pd.Series.nunique)\n",
    "cols_to_drop = nunique[nunique == 1].index\n",
    "df = df.drop(cols_to_drop, axis=1)\n",
    "\n",
    "df.head(3)"
   ]
  },
  {
   "cell_type": "markdown",
   "metadata": {},
   "source": [
    "#### Drop unnecessary columns."
   ]
  },
  {
   "cell_type": "code",
   "execution_count": 3,
   "metadata": {},
   "outputs": [
    {
     "data": {
      "text/html": [
       "<div>\n",
       "<style scoped>\n",
       "    .dataframe tbody tr th:only-of-type {\n",
       "        vertical-align: middle;\n",
       "    }\n",
       "\n",
       "    .dataframe tbody tr th {\n",
       "        vertical-align: top;\n",
       "    }\n",
       "\n",
       "    .dataframe thead th {\n",
       "        text-align: right;\n",
       "    }\n",
       "</style>\n",
       "<table border=\"1\" class=\"dataframe\">\n",
       "  <thead>\n",
       "    <tr style=\"text-align: right;\">\n",
       "      <th></th>\n",
       "      <th>steps</th>\n",
       "      <th>crabmeat</th>\n",
       "      <th>creamcheese</th>\n",
       "      <th>greenonions</th>\n",
       "      <th>garlicsalt</th>\n",
       "      <th>refrigeratedcrescentdinnerrolls</th>\n",
       "      <th>eggyolk</th>\n",
       "      <th>water</th>\n",
       "      <th>sesameseeds</th>\n",
       "      <th>garbanzobeans</th>\n",
       "      <th>...</th>\n",
       "      <th>smallwhitepotatoes</th>\n",
       "      <th>vegetarianpepperoni</th>\n",
       "      <th>powderedclove</th>\n",
       "      <th>cookedsushirice</th>\n",
       "      <th>almondbreezenon-dairybeverage</th>\n",
       "      <th>chocolateraspberrymoussemix</th>\n",
       "      <th>candiedcitronpeel</th>\n",
       "      <th>mincedclamswithjuice</th>\n",
       "      <th>dooleyliqueur</th>\n",
       "      <th>self-risingcornmealmix</th>\n",
       "    </tr>\n",
       "  </thead>\n",
       "  <tbody>\n",
       "    <tr>\n",
       "      <th>10023</th>\n",
       "      <td>clean prawns and butterfly, put in a rectangul...</td>\n",
       "      <td>0.0</td>\n",
       "      <td>0.0</td>\n",
       "      <td>0.0</td>\n",
       "      <td>0.0</td>\n",
       "      <td>0.0</td>\n",
       "      <td>0.0</td>\n",
       "      <td>0.0</td>\n",
       "      <td>0.0</td>\n",
       "      <td>0.0</td>\n",
       "      <td>...</td>\n",
       "      <td>0.0</td>\n",
       "      <td>0.0</td>\n",
       "      <td>0.0</td>\n",
       "      <td>0.0</td>\n",
       "      <td>0.0</td>\n",
       "      <td>0.0</td>\n",
       "      <td>0.0</td>\n",
       "      <td>0.0</td>\n",
       "      <td>0.0</td>\n",
       "      <td>0.0</td>\n",
       "    </tr>\n",
       "    <tr>\n",
       "      <th>15838</th>\n",
       "      <td>slice chicken into thin strips about an inch l...</td>\n",
       "      <td>0.0</td>\n",
       "      <td>0.0</td>\n",
       "      <td>0.0</td>\n",
       "      <td>0.0</td>\n",
       "      <td>0.0</td>\n",
       "      <td>0.0</td>\n",
       "      <td>0.0</td>\n",
       "      <td>0.0</td>\n",
       "      <td>0.0</td>\n",
       "      <td>...</td>\n",
       "      <td>0.0</td>\n",
       "      <td>0.0</td>\n",
       "      <td>0.0</td>\n",
       "      <td>0.0</td>\n",
       "      <td>0.0</td>\n",
       "      <td>0.0</td>\n",
       "      <td>0.0</td>\n",
       "      <td>0.0</td>\n",
       "      <td>0.0</td>\n",
       "      <td>0.0</td>\n",
       "    </tr>\n",
       "    <tr>\n",
       "      <th>11107</th>\n",
       "      <td>sautee onions and garlic in olive oil until so...</td>\n",
       "      <td>0.0</td>\n",
       "      <td>0.0</td>\n",
       "      <td>0.0</td>\n",
       "      <td>0.0</td>\n",
       "      <td>0.0</td>\n",
       "      <td>0.0</td>\n",
       "      <td>0.0</td>\n",
       "      <td>0.0</td>\n",
       "      <td>0.0</td>\n",
       "      <td>...</td>\n",
       "      <td>0.0</td>\n",
       "      <td>0.0</td>\n",
       "      <td>0.0</td>\n",
       "      <td>0.0</td>\n",
       "      <td>0.0</td>\n",
       "      <td>0.0</td>\n",
       "      <td>0.0</td>\n",
       "      <td>0.0</td>\n",
       "      <td>0.0</td>\n",
       "      <td>0.0</td>\n",
       "    </tr>\n",
       "  </tbody>\n",
       "</table>\n",
       "<p>3 rows × 3050 columns</p>\n",
       "</div>"
      ],
      "text/plain": [
       "                                                   steps  crabmeat  \\\n",
       "10023  clean prawns and butterfly, put in a rectangul...       0.0   \n",
       "15838  slice chicken into thin strips about an inch l...       0.0   \n",
       "11107  sautee onions and garlic in olive oil until so...       0.0   \n",
       "\n",
       "       creamcheese  greenonions  garlicsalt  refrigeratedcrescentdinnerrolls  \\\n",
       "10023          0.0          0.0         0.0                              0.0   \n",
       "15838          0.0          0.0         0.0                              0.0   \n",
       "11107          0.0          0.0         0.0                              0.0   \n",
       "\n",
       "       eggyolk  water  sesameseeds  garbanzobeans  ...  smallwhitepotatoes  \\\n",
       "10023      0.0    0.0          0.0            0.0  ...                 0.0   \n",
       "15838      0.0    0.0          0.0            0.0  ...                 0.0   \n",
       "11107      0.0    0.0          0.0            0.0  ...                 0.0   \n",
       "\n",
       "       vegetarianpepperoni  powderedclove  cookedsushirice  \\\n",
       "10023                  0.0            0.0              0.0   \n",
       "15838                  0.0            0.0              0.0   \n",
       "11107                  0.0            0.0              0.0   \n",
       "\n",
       "       almondbreezenon-dairybeverage  chocolateraspberrymoussemix  \\\n",
       "10023                            0.0                          0.0   \n",
       "15838                            0.0                          0.0   \n",
       "11107                            0.0                          0.0   \n",
       "\n",
       "       candiedcitronpeel  mincedclamswithjuice  dooleyliqueur  \\\n",
       "10023                0.0                   0.0            0.0   \n",
       "15838                0.0                   0.0            0.0   \n",
       "11107                0.0                   0.0            0.0   \n",
       "\n",
       "       self-risingcornmealmix  \n",
       "10023                     0.0  \n",
       "15838                     0.0  \n",
       "11107                     0.0  \n",
       "\n",
       "[3 rows x 3050 columns]"
      ]
     },
     "execution_count": 3,
     "metadata": {},
     "output_type": "execute_result"
    }
   ],
   "source": [
    "df = df.drop(['name'], axis=1)\n",
    "\n",
    "df.head(3)"
   ]
  },
  {
   "cell_type": "markdown",
   "metadata": {},
   "source": [
    "#### Separate steps from ingredients."
   ]
  },
  {
   "cell_type": "code",
   "execution_count": 4,
   "metadata": {},
   "outputs": [],
   "source": [
    "steps = df['steps']\n",
    "ingredients = df.drop(['steps'], axis=1)"
   ]
  },
  {
   "cell_type": "markdown",
   "metadata": {},
   "source": [
    "#### Create vocabulary of unique words."
   ]
  },
  {
   "cell_type": "code",
   "execution_count": 5,
   "metadata": {},
   "outputs": [
    {
     "name": "stdout",
     "output_type": "stream",
     "text": [
      "Number of unique tokens: 5673\n"
     ]
    }
   ],
   "source": [
    "unique = set(steps.str.replace('[^a-zA-Z0-9 ]', '').str.split(' ').sum())\n",
    "print(f'Number of unique tokens: {len(unique)}')\n",
    "vocab_size = len(unique) + 1  # +1 for appended 0s\n",
    "# vocab_size = 16903"
   ]
  },
  {
   "cell_type": "markdown",
   "metadata": {},
   "source": [
    "#### Create index to word mappings."
   ]
  },
  {
   "cell_type": "code",
   "execution_count": 6,
   "metadata": {},
   "outputs": [
    {
     "data": {
      "text/plain": [
       "'doublestick'"
      ]
     },
     "execution_count": 6,
     "metadata": {},
     "output_type": "execute_result"
    }
   ],
   "source": [
    "ixtoword = {}\n",
    "wordtoix = {}\n",
    "\n",
    "ix = 1\n",
    "for w in unique:\n",
    "    wordtoix[w] = ix\n",
    "    ixtoword[ix] = w\n",
    "    ix += 1\n",
    "    \n",
    "ixtoword[3]"
   ]
  },
  {
   "cell_type": "markdown",
   "metadata": {},
   "source": [
    "#### Get maximum sequence length."
   ]
  },
  {
   "cell_type": "code",
   "execution_count": 7,
   "metadata": {},
   "outputs": [
    {
     "data": {
      "text/plain": [
       "5983"
      ]
     },
     "execution_count": 7,
     "metadata": {},
     "output_type": "execute_result"
    }
   ],
   "source": [
    "max_seq_len = steps.str.len().max()\n",
    "\n",
    "max_seq_len"
   ]
  },
  {
   "cell_type": "markdown",
   "metadata": {},
   "source": [
    "#### Define data generator."
   ]
  },
  {
   "cell_type": "code",
   "execution_count": 11,
   "metadata": {},
   "outputs": [],
   "source": [
    "from tensorflow.keras.preprocessing.sequence import pad_sequences\n",
    "from tensorflow.keras.utils import to_categorical\n",
    "from numpy import array\n",
    "\n",
    "\n",
    "# data generator, intended to be used in a call to model.fit_generator()\n",
    "def data_generator(steps, recipes, wordtoix, max_seq_len, batch_size):\n",
    "    X1, X2, y = list(), list(), list()\n",
    "    n = 0\n",
    "    \n",
    "    # loop for ever over images\n",
    "    while 1:\n",
    "        for i, step_text in enumerate(steps):\n",
    "            n += 1\n",
    "            \n",
    "            # encode the sequence\n",
    "            seq = [wordtoix[word] for word in step_text.split(' ') if word in wordtoix]\n",
    "            \n",
    "            # split one sequence into multiple X, y pairs\n",
    "            for i in range(1, len(seq)):\n",
    "                # split into input and output pair\n",
    "                in_seq, out_seq = seq[:i], seq[i]\n",
    "                \n",
    "                # pad input sequence\n",
    "                in_seq = pad_sequences([in_seq], maxlen=max_seq_len)[0]\n",
    "                \n",
    "                # encode output sequence\n",
    "                out_seq = to_categorical([out_seq], num_classes=vocab_size)[0]\n",
    "                \n",
    "                # store\n",
    "                X1.append(recipes.iloc[i])\n",
    "                X2.append(in_seq)\n",
    "                y.append(out_seq)\n",
    "                \n",
    "            # yield the batch data\n",
    "            if n == batch_size:\n",
    "                yield ([array(X1), array(X2)], array(y))\n",
    "                X1, X2, y = list(), list(), list()\n",
    "                n = 0"
   ]
  },
  {
   "cell_type": "markdown",
   "metadata": {},
   "source": [
    "#### Glove Vectors."
   ]
  },
  {
   "cell_type": "code",
   "execution_count": 12,
   "metadata": {},
   "outputs": [
    {
     "name": "stdout",
     "output_type": "stream",
     "text": [
      "Found 400000 word vectors.\n"
     ]
    }
   ],
   "source": [
    "import os\n",
    "import numpy as np\n",
    "\n",
    "\n",
    "# Load Glove vectors\n",
    "glove_dir = '../data/glove_vectors'\n",
    "embeddings_index = {} # empty dictionary\n",
    "f = open(os.path.join(glove_dir, 'glove.6B.50d.txt'), encoding=\"utf-8\")\n",
    "\n",
    "for line in f:\n",
    "    values = line.split()\n",
    "    word = values[0]\n",
    "    coefs = np.asarray(values[1:], dtype='float32')\n",
    "    embeddings_index[word] = coefs\n",
    "f.close()\n",
    "\n",
    "print('Found %s word vectors.' % len(embeddings_index))"
   ]
  },
  {
   "cell_type": "markdown",
   "metadata": {},
   "source": [
    "#### Create embedding matrix."
   ]
  },
  {
   "cell_type": "code",
   "execution_count": 13,
   "metadata": {},
   "outputs": [
    {
     "data": {
      "text/plain": [
       "(5674, 50)"
      ]
     },
     "execution_count": 13,
     "metadata": {},
     "output_type": "execute_result"
    }
   ],
   "source": [
    "embedding_dim = 50\n",
    "\n",
    "# Get 200-dim dense vector for each of the 10000 words in out vocabulary\n",
    "embedding_matrix = np.zeros((vocab_size, embedding_dim))\n",
    "\n",
    "for word, i in wordtoix.items():\n",
    "    # If i < max_words:\n",
    "    embedding_vector = embeddings_index.get(word)\n",
    "    \n",
    "    if embedding_vector is not None:\n",
    "        # Words not found in the embedding index will be all zeros\n",
    "        embedding_matrix[i] = embedding_vector\n",
    "        \n",
    "embedding_matrix.shape"
   ]
  },
  {
   "cell_type": "markdown",
   "metadata": {},
   "source": [
    "#### Model architecture."
   ]
  },
  {
   "cell_type": "code",
   "execution_count": 18,
   "metadata": {},
   "outputs": [
    {
     "name": "stdout",
     "output_type": "stream",
     "text": [
      "Model: \"model\"\n",
      "__________________________________________________________________________________________________\n",
      "Layer (type)                    Output Shape         Param #     Connected to                     \n",
      "==================================================================================================\n",
      "input_2 (InputLayer)            [(None, 5983)]       0                                            \n",
      "__________________________________________________________________________________________________\n",
      "input_1 (InputLayer)            [(None, 3049)]       0                                            \n",
      "__________________________________________________________________________________________________\n",
      "embedding (Embedding)           (None, 5983, 50)     283700      input_2[0][0]                    \n",
      "__________________________________________________________________________________________________\n",
      "dropout (Dropout)               (None, 3049)         0           input_1[0][0]                    \n",
      "__________________________________________________________________________________________________\n",
      "dropout_1 (Dropout)             (None, 5983, 50)     0           embedding[0][0]                  \n",
      "__________________________________________________________________________________________________\n",
      "dense (Dense)                   (None, 256)          780800      dropout[0][0]                    \n",
      "__________________________________________________________________________________________________\n",
      "lstm (LSTM)                     (None, 256)          314368      dropout_1[0][0]                  \n",
      "__________________________________________________________________________________________________\n",
      "add (Add)                       (None, 256)          0           dense[0][0]                      \n",
      "                                                                 lstm[0][0]                       \n",
      "__________________________________________________________________________________________________\n",
      "dense_1 (Dense)                 (None, 256)          65792       add[0][0]                        \n",
      "__________________________________________________________________________________________________\n",
      "dense_2 (Dense)                 (None, 5674)         1458218     dense_1[0][0]                    \n",
      "==================================================================================================\n",
      "Total params: 2,902,878\n",
      "Trainable params: 2,902,878\n",
      "Non-trainable params: 0\n",
      "__________________________________________________________________________________________________\n"
     ]
    }
   ],
   "source": [
    "import tensorflow as tf\n",
    "from tensorflow.keras import Sequential, Model\n",
    "from tensorflow.keras.layers import Dense, Dropout, Input, LSTM, Embedding\n",
    "from tensorflow.keras.layers import Add\n",
    "\n",
    "\n",
    "inputs1 = Input(shape=(ingredients.shape[1],))\n",
    "fe1 = Dropout(0.5)(inputs1)\n",
    "fe2 = Dense(256, activation='relu')(fe1)\n",
    "\n",
    "inputs2 = Input(shape=(max_seq_len,))\n",
    "se1 = Embedding(vocab_size, embedding_dim, mask_zero=True)(inputs2)\n",
    "se2 = Dropout(0.5)(se1)\n",
    "se3 = LSTM(256)(se2)\n",
    "\n",
    "decoder1 = Add()([fe2, se3])\n",
    "decoder2 = Dense(256, activation='relu')(decoder1)\n",
    "outputs = Dense(vocab_size, activation='softmax')(decoder2)\n",
    "\n",
    "model = Model(inputs=[inputs1, inputs2], outputs=outputs)\n",
    "model.summary()"
   ]
  },
  {
   "cell_type": "code",
   "execution_count": 19,
   "metadata": {},
   "outputs": [
    {
     "data": {
      "text/plain": [
       "<tensorflow.python.keras.layers.embeddings.Embedding at 0x7f0ab552af10>"
      ]
     },
     "execution_count": 19,
     "metadata": {},
     "output_type": "execute_result"
    }
   ],
   "source": [
    "model.layers[2]"
   ]
  },
  {
   "cell_type": "code",
   "execution_count": 20,
   "metadata": {},
   "outputs": [],
   "source": [
    "model.layers[2].set_weights([embedding_matrix])\n",
    "model.layers[2].trainable = False\n",
    "\n",
    "model.compile(loss='categorical_crossentropy', optimizer='adam')"
   ]
  },
  {
   "cell_type": "markdown",
   "metadata": {},
   "source": [
    "#### Train."
   ]
  },
  {
   "cell_type": "code",
   "execution_count": null,
   "metadata": {},
   "outputs": [],
   "source": [
    "epochs = 10\n",
    "batch_size = 5\n",
    "\n",
    "train_steps = len(steps) // batch_size\n",
    "\n",
    "for i in range(epochs):\n",
    "    generator = data_generator(steps, ingredients, wordtoix, max_seq_len, batch_size)\n",
    "    model.fit(generator, epochs=1, steps_per_epoch=train_steps, verbose=1)"
   ]
  }
 ],
 "metadata": {
  "kernelspec": {
   "display_name": "Python 3",
   "language": "python",
   "name": "python3"
  },
  "language_info": {
   "codemirror_mode": {
    "name": "ipython",
    "version": 3
   },
   "file_extension": ".py",
   "mimetype": "text/x-python",
   "name": "python",
   "nbconvert_exporter": "python",
   "pygments_lexer": "ipython3",
   "version": "3.8.8"
  }
 },
 "nbformat": 4,
 "nbformat_minor": 4
}
